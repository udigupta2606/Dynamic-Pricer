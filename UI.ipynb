{
 "cells": [
  {
   "cell_type": "code",
   "execution_count": 1,
   "id": "553a8745",
   "metadata": {},
   "outputs": [
    {
     "name": "stdout",
     "output_type": "stream",
     "text": [
      "[17.56358103] USD\n"
     ]
    },
    {
     "name": "stderr",
     "output_type": "stream",
     "text": [
      "D:\\Anaconda\\Lib\\site-packages\\sklearn\\base.py:465: UserWarning: X does not have valid feature names, but RandomForestRegressor was fitted with feature names\n",
      "  warnings.warn(\n"
     ]
    }
   ],
   "source": [
    "import pickle\n",
    "\n",
    "with open('UberFarePredictor.pkl', 'rb') as f:\n",
    "    model = pickle.load(f)\n",
    "\n",
    "# Replace square brackets [] with curly braces {} and use colons to separate keys and values\n",
    "x_values = {\n",
    "    'pickup_longitude': -73.844311,        #Valid values are -180 to 180\n",
    "    'pickup_latitude': 40.721319,          #Valid values are -90 to 90\n",
    "    'dropoff_longitude': -73.841610,\n",
    "    'dropoff_latitude': 40.722345,\n",
    "    'passenger_count': 1,                  #Valid values are 1 to 6\n",
    "    'date': 21,                            #Valid values are 1 to 31\n",
    "    'hour': 14,                            #Valid values are 0 to 24\n",
    "    'weekday': 6,                          #Valid values are 0 to 6\n",
    "    'month' : 1,                           #Valid values are 1 to 12\n",
    "    'year' : 2024                         \n",
    "}\n",
    "\n",
    "# Convert the dictionary to a list, as model.predict() typically expects a list-like input\n",
    "x_values_list = [list(x_values.values())]\n",
    "\n",
    "# Make predictions\n",
    "predictions = model.predict(x_values_list)\n",
    "\n",
    "# Print or use the predictions as needed\n",
    "print(predictions,\"USD\")\n"
   ]
  },
  {
   "cell_type": "code",
   "execution_count": null,
   "id": "06041a5a",
   "metadata": {},
   "outputs": [],
   "source": []
  }
 ],
 "metadata": {
  "kernelspec": {
   "display_name": "Python 3 (ipykernel)",
   "language": "python",
   "name": "python3"
  },
  "language_info": {
   "codemirror_mode": {
    "name": "ipython",
    "version": 3
   },
   "file_extension": ".py",
   "mimetype": "text/x-python",
   "name": "python",
   "nbconvert_exporter": "python",
   "pygments_lexer": "ipython3",
   "version": "3.11.4"
  }
 },
 "nbformat": 4,
 "nbformat_minor": 5
}
